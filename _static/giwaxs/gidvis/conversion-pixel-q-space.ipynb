{
 "cells": [
  {
   "cell_type": "code",
   "execution_count": 27,
   "id": "f98c963b",
   "metadata": {
    "scrolled": false
   },
   "outputs": [
    {
     "name": "stdout",
     "output_type": "stream",
     "text": [
      "[[ 1.00000000e+00 -2.04131889e+00  1.26352400e+03]\n",
      " [ 2.00000000e+00 -2.03925920e+00  1.34314300e+03]\n",
      " [ 3.00000000e+00 -2.03719868e+00  1.37595200e+03]\n",
      " ...\n",
      " [ 8.98000000e+02  5.75661600e-02  9.74104800e+03]\n",
      " [ 8.99000000e+02  6.00558929e-02  9.86314300e+03]\n",
      " [ 9.00000000e+02  6.25455932e-02  1.09177100e+04]]\n"
     ]
    }
   ],
   "source": [
    "import numpy as np\n",
    "import matplotlib.pyplot as plt\n",
    "\n",
    "def calculate_qxy(x, lambda_, pixel_size, pos_direct_x, D, PONI_x, delta):\n",
    "    # Calculate the position of the direct beam on the rotated detector\n",
    "    pos_direct_x = PONI_x - (D / pixel_size) * np.tan(np.radians(delta))\n",
    "    \n",
    "    # Calculate the angle theta for each pixel with horizontal coordinate x\n",
    "    theta = np.arctan(pixel_size * (x - pos_direct_x) / D)/2.\n",
    "    \n",
    "    # Calculate q_xy\n",
    "    qxy = (4 * np.pi / lambda_) * np.sin(theta)\n",
    "    \n",
    "    return qxy\n",
    "\n",
    "# Function to load the data from a CSV file (one-line header, space-separated)\n",
    "def load_data(file_path):\n",
    "    # Load the file with numpy, assuming it's space-separated and has a single-line header\n",
    "    data = np.loadtxt(file_path, delimiter=None, skiprows=1)\n",
    "    \n",
    "    # The first column represents pixel values and the second column represents intensity values\n",
    "    x_values = data[:, 0]  # Column 0 as pixel values\n",
    "    intensity_values = data[:, 1]  # Column 1 as intensity values\n",
    "    \n",
    "    return x_values, intensity_values\n",
    "\n",
    "# Main function to process the data and convert pixel values to q_xy\n",
    "def process_file(file_path, lambda_, pixel_size, D, PONI_x, delta):\n",
    "    # Load the data from the CSV file\n",
    "    x_values, intensity_values = load_data(file_path)\n",
    "    \n",
    "    # Calculate q_xy for each pixel value\n",
    "    qxy_values = np.array([calculate_qxy(x, lambda_, pixel_size, 0, D, PONI_x, delta) for x in x_values])\n",
    "\n",
    "    # Combine the results into a structured array or simply return the qxy_values alongside the intensity\n",
    "    processed_data = np.column_stack((x_values, qxy_values, intensity_values))\n",
    "    \n",
    "    return processed_data\n",
    "\n",
    "# Example values (replace with your actual values)\n",
    "lambda_ = 1.24e-10  # Wavelength in meters\n",
    "pixel_size = 172e-6  # Pixel size in meters\n",
    "D = 0.35  # Distance between detector and sample in meters\n",
    "PONI_x = 563.5  # Example value for PONI_x\n",
    "delta = -8.7  # In-plane angle in degrees\n",
    "\n",
    "# Path to the CSV file (replace with your actual file path)\n",
    "file_path = '5151-pixel-integration-horizontal.txt'\n",
    "\n",
    "# Process the file and get the data with q_xy values\n",
    "processed_data = process_file(file_path, lambda_, pixel_size, D, PONI_x, delta)\n",
    "\n",
    "# Convert to A^-1\n",
    "processed_data[:,1]=processed_data[:,1]*1e-10\n",
    "\n",
    "# Print or save the processed data\n",
    "print(processed_data)\n",
    "\n",
    "# Optionally save the results to a new file\n",
    "np.savetxt('processed_data.csv', processed_data, delimiter=';', header=\"Pixel;q_xy(A^-1);Intensity\", comments='', fmt='%f')\n"
   ]
  },
  {
   "cell_type": "code",
   "execution_count": null,
   "id": "a5590090",
   "metadata": {},
   "outputs": [],
   "source": []
  }
 ],
 "metadata": {
  "kernelspec": {
   "display_name": "Python 3 (ipykernel)",
   "language": "python",
   "name": "python3"
  },
  "language_info": {
   "codemirror_mode": {
    "name": "ipython",
    "version": 3
   },
   "file_extension": ".py",
   "mimetype": "text/x-python",
   "name": "python",
   "nbconvert_exporter": "python",
   "pygments_lexer": "ipython3",
   "version": "3.10.11"
  }
 },
 "nbformat": 4,
 "nbformat_minor": 5
}
